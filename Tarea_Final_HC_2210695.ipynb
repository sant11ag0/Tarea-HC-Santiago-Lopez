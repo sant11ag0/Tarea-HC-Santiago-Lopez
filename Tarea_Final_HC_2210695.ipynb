{
 "cells": [
  {
   "cell_type": "markdown",
   "id": "9bb0f8ad-3f81-44b5-9e39-13c790bebf58",
   "metadata": {},
   "source": [
    "# **TAREA FINAL HERRAMIENTAS COMPUTACIONALES**\n",
    "### Santiago López Hernández - 2210695"
   ]
  },
  {
   "cell_type": "markdown",
   "id": "8b4f8480-2d35-450a-8dcd-7dced16a0a06",
   "metadata": {
    "jp-MarkdownHeadingCollapsed": true,
    "tags": []
   },
   "source": [
    "---\n",
    "**Primeramente, importamos las librerias necesiaras.**"
   ]
  },
  {
   "cell_type": "code",
   "execution_count": 1,
   "id": "20ac902e-5d78-4304-9870-f290a04c8f67",
   "metadata": {},
   "outputs": [],
   "source": [
    "import pandas as pd\n",
    "import matplotlib.pyplot as plt\n",
    "import numpy as np"
   ]
  },
  {
   "cell_type": "markdown",
   "id": "ef6c1a67-c7e5-492c-b9b7-ba857920a2bb",
   "metadata": {},
   "source": [
    "**Leemos los archivos de datos que vamos a estar analizando**"
   ]
  },
  {
   "cell_type": "code",
   "execution_count": 2,
   "id": "cd90edc2-0858-4a03-8341-3c9de2d37981",
   "metadata": {},
   "outputs": [],
   "source": [
    "dt1=pd.read_csv('Global_active_power.csv')\n",
    "dt2=pd.read_csv('Global_intensity.csv')\n",
    "dt3=pd.read_csv('Global_reactive_power.csv')\n",
    "dt4=pd.read_csv('Voltage.csv')"
   ]
  },
  {
   "cell_type": "code",
   "execution_count": 10,
   "id": "5d0db3e3-c578-440a-bbf3-2f5bd8470fe1",
   "metadata": {},
   "outputs": [
    {
     "data": {
      "text/html": [
       "<div>\n",
       "<style scoped>\n",
       "    .dataframe tbody tr th:only-of-type {\n",
       "        vertical-align: middle;\n",
       "    }\n",
       "\n",
       "    .dataframe tbody tr th {\n",
       "        vertical-align: top;\n",
       "    }\n",
       "\n",
       "    .dataframe thead th {\n",
       "        text-align: right;\n",
       "    }\n",
       "</style>\n",
       "<table border=\"1\" class=\"dataframe\">\n",
       "  <thead>\n",
       "    <tr style=\"text-align: right;\">\n",
       "      <th></th>\n",
       "      <th>Global_active_power</th>\n",
       "      <th>Global_intensity</th>\n",
       "      <th>Global_reactive_power</th>\n",
       "      <th>Voltage</th>\n",
       "    </tr>\n",
       "    <tr>\n",
       "      <th>Datetime</th>\n",
       "      <th></th>\n",
       "      <th></th>\n",
       "      <th></th>\n",
       "      <th></th>\n",
       "    </tr>\n",
       "  </thead>\n",
       "  <tbody>\n",
       "    <tr>\n",
       "      <th>2010-01-01 00:00:00</th>\n",
       "      <td>1.790</td>\n",
       "      <td>7.4</td>\n",
       "      <td>0.236</td>\n",
       "      <td>240.65</td>\n",
       "    </tr>\n",
       "    <tr>\n",
       "      <th>2010-01-01 00:01:00</th>\n",
       "      <td>1.780</td>\n",
       "      <td>7.4</td>\n",
       "      <td>0.234</td>\n",
       "      <td>240.07</td>\n",
       "    </tr>\n",
       "    <tr>\n",
       "      <th>2010-01-01 00:02:00</th>\n",
       "      <td>1.780</td>\n",
       "      <td>7.4</td>\n",
       "      <td>0.234</td>\n",
       "      <td>240.15</td>\n",
       "    </tr>\n",
       "    <tr>\n",
       "      <th>2010-01-01 00:03:00</th>\n",
       "      <td>1.746</td>\n",
       "      <td>7.2</td>\n",
       "      <td>0.186</td>\n",
       "      <td>240.26</td>\n",
       "    </tr>\n",
       "    <tr>\n",
       "      <th>2010-01-01 00:04:00</th>\n",
       "      <td>1.686</td>\n",
       "      <td>7.0</td>\n",
       "      <td>0.102</td>\n",
       "      <td>240.12</td>\n",
       "    </tr>\n",
       "    <tr>\n",
       "      <th>...</th>\n",
       "      <td>...</td>\n",
       "      <td>...</td>\n",
       "      <td>...</td>\n",
       "      <td>...</td>\n",
       "    </tr>\n",
       "    <tr>\n",
       "      <th>2010-01-27 08:35:00</th>\n",
       "      <td>1.430</td>\n",
       "      <td>5.8</td>\n",
       "      <td>0.000</td>\n",
       "      <td>242.65</td>\n",
       "    </tr>\n",
       "    <tr>\n",
       "      <th>2010-01-27 08:36:00</th>\n",
       "      <td>1.418</td>\n",
       "      <td>5.8</td>\n",
       "      <td>0.000</td>\n",
       "      <td>242.21</td>\n",
       "    </tr>\n",
       "    <tr>\n",
       "      <th>2010-01-27 08:37:00</th>\n",
       "      <td>1.414</td>\n",
       "      <td>5.8</td>\n",
       "      <td>0.000</td>\n",
       "      <td>241.34</td>\n",
       "    </tr>\n",
       "    <tr>\n",
       "      <th>2010-01-27 08:38:00</th>\n",
       "      <td>1.422</td>\n",
       "      <td>5.8</td>\n",
       "      <td>0.000</td>\n",
       "      <td>241.94</td>\n",
       "    </tr>\n",
       "    <tr>\n",
       "      <th>2010-01-27 08:39:00</th>\n",
       "      <td>1.416</td>\n",
       "      <td>5.8</td>\n",
       "      <td>0.000</td>\n",
       "      <td>241.19</td>\n",
       "    </tr>\n",
       "  </tbody>\n",
       "</table>\n",
       "<p>34830 rows × 4 columns</p>\n",
       "</div>"
      ],
      "text/plain": [
       "                     Global_active_power  Global_intensity  \\\n",
       "Datetime                                                     \n",
       "2010-01-01 00:00:00                1.790               7.4   \n",
       "2010-01-01 00:01:00                1.780               7.4   \n",
       "2010-01-01 00:02:00                1.780               7.4   \n",
       "2010-01-01 00:03:00                1.746               7.2   \n",
       "2010-01-01 00:04:00                1.686               7.0   \n",
       "...                                  ...               ...   \n",
       "2010-01-27 08:35:00                1.430               5.8   \n",
       "2010-01-27 08:36:00                1.418               5.8   \n",
       "2010-01-27 08:37:00                1.414               5.8   \n",
       "2010-01-27 08:38:00                1.422               5.8   \n",
       "2010-01-27 08:39:00                1.416               5.8   \n",
       "\n",
       "                     Global_reactive_power  Voltage  \n",
       "Datetime                                             \n",
       "2010-01-01 00:00:00                  0.236   240.65  \n",
       "2010-01-01 00:01:00                  0.234   240.07  \n",
       "2010-01-01 00:02:00                  0.234   240.15  \n",
       "2010-01-01 00:03:00                  0.186   240.26  \n",
       "2010-01-01 00:04:00                  0.102   240.12  \n",
       "...                                    ...      ...  \n",
       "2010-01-27 08:35:00                  0.000   242.65  \n",
       "2010-01-27 08:36:00                  0.000   242.21  \n",
       "2010-01-27 08:37:00                  0.000   241.34  \n",
       "2010-01-27 08:38:00                  0.000   241.94  \n",
       "2010-01-27 08:39:00                  0.000   241.19  \n",
       "\n",
       "[34830 rows x 4 columns]"
      ]
     },
     "execution_count": 10,
     "metadata": {},
     "output_type": "execute_result"
    }
   ],
   "source": [
    "dt12 = pd.merge(dt1,dt2)\n",
    "dt34 = pd.merge(dt3,dt4)\n",
    "dtTotal = pd.merge(dt12,dt34)\n",
    "dtTotal\n",
    "\n",
    "dtTotal['Datetime'] = pd.to_datetime(dtTotal['Datetime'])\n",
    "dtTotal=dtTotal.set_index('Datetime')\n",
    "dtTotal"
   ]
  },
  {
   "cell_type": "code",
   "execution_count": null,
   "id": "a8d9f380-8cf7-4d31-8572-3b9b24154dcd",
   "metadata": {},
   "outputs": [],
   "source": []
  }
 ],
 "metadata": {
  "kernelspec": {
   "display_name": "Python 3",
   "language": "python",
   "name": "python3"
  },
  "language_info": {
   "codemirror_mode": {
    "name": "ipython",
    "version": 3
   },
   "file_extension": ".py",
   "mimetype": "text/x-python",
   "name": "python",
   "nbconvert_exporter": "python",
   "pygments_lexer": "ipython3",
   "version": "3.8.11"
  }
 },
 "nbformat": 4,
 "nbformat_minor": 5
}
